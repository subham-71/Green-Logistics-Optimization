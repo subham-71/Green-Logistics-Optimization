{
 "cells": [
  {
   "cell_type": "code",
   "execution_count": 40,
   "metadata": {},
   "outputs": [],
   "source": [
    "import pandas as pd\n",
    "import numpy as np\n",
    "from numpy import percentile\n",
    "from scipy import stats\n",
    "from scipy.stats import skew\n",
    "from scipy.special import boxcox1p\n",
    "from sklearn.preprocessing import LabelEncoder\n",
    "import seaborn as sns\n",
    "import matplotlib.pyplot as plt\n"
   ]
  },
  {
   "cell_type": "code",
   "execution_count": 14,
   "metadata": {},
   "outputs": [],
   "source": [
    "fuel_con = pd.read_csv('../data/co2_emissions.csv')"
   ]
  },
  {
   "cell_type": "code",
   "execution_count": 15,
   "metadata": {},
   "outputs": [
    {
     "data": {
      "text/html": [
       "<div>\n",
       "<style scoped>\n",
       "    .dataframe tbody tr th:only-of-type {\n",
       "        vertical-align: middle;\n",
       "    }\n",
       "\n",
       "    .dataframe tbody tr th {\n",
       "        vertical-align: top;\n",
       "    }\n",
       "\n",
       "    .dataframe thead th {\n",
       "        text-align: right;\n",
       "    }\n",
       "</style>\n",
       "<table border=\"1\" class=\"dataframe\">\n",
       "  <thead>\n",
       "    <tr style=\"text-align: right;\">\n",
       "      <th></th>\n",
       "      <th>Make</th>\n",
       "      <th>Model</th>\n",
       "      <th>Vehicle Class</th>\n",
       "      <th>Engine Size(L)</th>\n",
       "      <th>Cylinders</th>\n",
       "      <th>Transmission</th>\n",
       "      <th>Fuel Type</th>\n",
       "      <th>Fuel Consumption City (L/100 km)</th>\n",
       "      <th>Fuel Consumption Hwy (L/100 km)</th>\n",
       "      <th>Fuel Consumption Comb (L/100 km)</th>\n",
       "      <th>Fuel Consumption Comb (mpg)</th>\n",
       "      <th>CO2 Emissions(g/km)</th>\n",
       "    </tr>\n",
       "  </thead>\n",
       "  <tbody>\n",
       "    <tr>\n",
       "      <th>0</th>\n",
       "      <td>ACURA</td>\n",
       "      <td>ILX</td>\n",
       "      <td>COMPACT</td>\n",
       "      <td>2.0</td>\n",
       "      <td>4</td>\n",
       "      <td>AS5</td>\n",
       "      <td>Z</td>\n",
       "      <td>9.9</td>\n",
       "      <td>6.7</td>\n",
       "      <td>8.5</td>\n",
       "      <td>33</td>\n",
       "      <td>196</td>\n",
       "    </tr>\n",
       "    <tr>\n",
       "      <th>1</th>\n",
       "      <td>ACURA</td>\n",
       "      <td>ILX</td>\n",
       "      <td>COMPACT</td>\n",
       "      <td>2.4</td>\n",
       "      <td>4</td>\n",
       "      <td>M6</td>\n",
       "      <td>Z</td>\n",
       "      <td>11.2</td>\n",
       "      <td>7.7</td>\n",
       "      <td>9.6</td>\n",
       "      <td>29</td>\n",
       "      <td>221</td>\n",
       "    </tr>\n",
       "    <tr>\n",
       "      <th>2</th>\n",
       "      <td>ACURA</td>\n",
       "      <td>ILX HYBRID</td>\n",
       "      <td>COMPACT</td>\n",
       "      <td>1.5</td>\n",
       "      <td>4</td>\n",
       "      <td>AV7</td>\n",
       "      <td>Z</td>\n",
       "      <td>6.0</td>\n",
       "      <td>5.8</td>\n",
       "      <td>5.9</td>\n",
       "      <td>48</td>\n",
       "      <td>136</td>\n",
       "    </tr>\n",
       "    <tr>\n",
       "      <th>3</th>\n",
       "      <td>ACURA</td>\n",
       "      <td>MDX 4WD</td>\n",
       "      <td>SUV - SMALL</td>\n",
       "      <td>3.5</td>\n",
       "      <td>6</td>\n",
       "      <td>AS6</td>\n",
       "      <td>Z</td>\n",
       "      <td>12.7</td>\n",
       "      <td>9.1</td>\n",
       "      <td>11.1</td>\n",
       "      <td>25</td>\n",
       "      <td>255</td>\n",
       "    </tr>\n",
       "    <tr>\n",
       "      <th>4</th>\n",
       "      <td>ACURA</td>\n",
       "      <td>RDX AWD</td>\n",
       "      <td>SUV - SMALL</td>\n",
       "      <td>3.5</td>\n",
       "      <td>6</td>\n",
       "      <td>AS6</td>\n",
       "      <td>Z</td>\n",
       "      <td>12.1</td>\n",
       "      <td>8.7</td>\n",
       "      <td>10.6</td>\n",
       "      <td>27</td>\n",
       "      <td>244</td>\n",
       "    </tr>\n",
       "  </tbody>\n",
       "</table>\n",
       "</div>"
      ],
      "text/plain": [
       "    Make       Model Vehicle Class  Engine Size(L)  Cylinders Transmission  \\\n",
       "0  ACURA         ILX       COMPACT             2.0          4          AS5   \n",
       "1  ACURA         ILX       COMPACT             2.4          4           M6   \n",
       "2  ACURA  ILX HYBRID       COMPACT             1.5          4          AV7   \n",
       "3  ACURA     MDX 4WD   SUV - SMALL             3.5          6          AS6   \n",
       "4  ACURA     RDX AWD   SUV - SMALL             3.5          6          AS6   \n",
       "\n",
       "  Fuel Type  Fuel Consumption City (L/100 km)  \\\n",
       "0         Z                               9.9   \n",
       "1         Z                              11.2   \n",
       "2         Z                               6.0   \n",
       "3         Z                              12.7   \n",
       "4         Z                              12.1   \n",
       "\n",
       "   Fuel Consumption Hwy (L/100 km)  Fuel Consumption Comb (L/100 km)  \\\n",
       "0                              6.7                               8.5   \n",
       "1                              7.7                               9.6   \n",
       "2                              5.8                               5.9   \n",
       "3                              9.1                              11.1   \n",
       "4                              8.7                              10.6   \n",
       "\n",
       "   Fuel Consumption Comb (mpg)  CO2 Emissions(g/km)  \n",
       "0                           33                  196  \n",
       "1                           29                  221  \n",
       "2                           48                  136  \n",
       "3                           25                  255  \n",
       "4                           27                  244  "
      ]
     },
     "execution_count": 15,
     "metadata": {},
     "output_type": "execute_result"
    }
   ],
   "source": [
    "fuel_con.head()"
   ]
  },
  {
   "cell_type": "code",
   "execution_count": 16,
   "metadata": {},
   "outputs": [
    {
     "name": "stdout",
     "output_type": "stream",
     "text": [
      "<class 'pandas.core.frame.DataFrame'>\n",
      "RangeIndex: 7385 entries, 0 to 7384\n",
      "Data columns (total 12 columns):\n",
      " #   Column                            Non-Null Count  Dtype  \n",
      "---  ------                            --------------  -----  \n",
      " 0   Make                              7385 non-null   object \n",
      " 1   Model                             7385 non-null   object \n",
      " 2   Vehicle Class                     7385 non-null   object \n",
      " 3   Engine Size(L)                    7385 non-null   float64\n",
      " 4   Cylinders                         7385 non-null   int64  \n",
      " 5   Transmission                      7385 non-null   object \n",
      " 6   Fuel Type                         7385 non-null   object \n",
      " 7   Fuel Consumption City (L/100 km)  7385 non-null   float64\n",
      " 8   Fuel Consumption Hwy (L/100 km)   7385 non-null   float64\n",
      " 9   Fuel Consumption Comb (L/100 km)  7385 non-null   float64\n",
      " 10  Fuel Consumption Comb (mpg)       7385 non-null   int64  \n",
      " 11  CO2 Emissions(g/km)               7385 non-null   int64  \n",
      "dtypes: float64(4), int64(3), object(5)\n",
      "memory usage: 692.5+ KB\n"
     ]
    }
   ],
   "source": [
    "fuel_con.info()"
   ]
  },
  {
   "cell_type": "code",
   "execution_count": 17,
   "metadata": {},
   "outputs": [
    {
     "data": {
      "text/plain": [
       "Make                                0\n",
       "Model                               0\n",
       "Vehicle Class                       0\n",
       "Engine Size(L)                      0\n",
       "Cylinders                           0\n",
       "Transmission                        0\n",
       "Fuel Type                           0\n",
       "Fuel Consumption City (L/100 km)    0\n",
       "Fuel Consumption Hwy (L/100 km)     0\n",
       "Fuel Consumption Comb (L/100 km)    0\n",
       "Fuel Consumption Comb (mpg)         0\n",
       "CO2 Emissions(g/km)                 0\n",
       "dtype: int64"
      ]
     },
     "execution_count": 17,
     "metadata": {},
     "output_type": "execute_result"
    }
   ],
   "source": [
    "fuel_con.isnull().sum()"
   ]
  },
  {
   "cell_type": "code",
   "execution_count": 18,
   "metadata": {},
   "outputs": [
    {
     "name": "stdout",
     "output_type": "stream",
     "text": [
      "42\n"
     ]
    },
    {
     "data": {
      "text/plain": [
       "array(['ACURA', 'ALFA ROMEO', 'ASTON MARTIN', 'AUDI', 'BENTLEY', 'BMW',\n",
       "       'BUICK', 'CADILLAC', 'CHEVROLET', 'CHRYSLER', 'DODGE', 'FIAT',\n",
       "       'FORD', 'GMC', 'HONDA', 'HYUNDAI', 'INFINITI', 'JAGUAR', 'JEEP',\n",
       "       'KIA', 'LAMBORGHINI', 'LAND ROVER', 'LEXUS', 'LINCOLN', 'MASERATI',\n",
       "       'MAZDA', 'MERCEDES-BENZ', 'MINI', 'MITSUBISHI', 'NISSAN',\n",
       "       'PORSCHE', 'RAM', 'ROLLS-ROYCE', 'SCION', 'SMART', 'SRT', 'SUBARU',\n",
       "       'TOYOTA', 'VOLKSWAGEN', 'VOLVO', 'GENESIS', 'BUGATTI'],\n",
       "      dtype=object)"
      ]
     },
     "execution_count": 18,
     "metadata": {},
     "output_type": "execute_result"
    }
   ],
   "source": [
    "fuel_con[\"Make\"].nunique()"
   ]
  },
  {
   "cell_type": "code",
   "execution_count": 20,
   "metadata": {},
   "outputs": [
    {
     "data": {
      "text/plain": [
       "array(['ACURA', 'ALFA ROMEO', 'ASTON MARTIN', 'AUDI', 'BENTLEY', 'BMW',\n",
       "       'BUICK', 'CADILLAC', 'CHEVROLET', 'CHRYSLER', 'DODGE', 'FIAT',\n",
       "       'FORD', 'GMC', 'HONDA', 'HYUNDAI', 'INFINITI', 'JAGUAR', 'JEEP',\n",
       "       'KIA', 'LAMBORGHINI', 'LAND ROVER', 'LEXUS', 'LINCOLN', 'MASERATI',\n",
       "       'MAZDA', 'MERCEDES-BENZ', 'MINI', 'MITSUBISHI', 'NISSAN',\n",
       "       'PORSCHE', 'RAM', 'ROLLS-ROYCE', 'SCION', 'SMART', 'SRT', 'SUBARU',\n",
       "       'TOYOTA', 'VOLKSWAGEN', 'VOLVO', 'GENESIS', 'BUGATTI'],\n",
       "      dtype=object)"
      ]
     },
     "execution_count": 20,
     "metadata": {},
     "output_type": "execute_result"
    }
   ],
   "source": [
    "fuel_con[\"Make\"].unique()"
   ]
  },
  {
   "cell_type": "code",
   "execution_count": 21,
   "metadata": {},
   "outputs": [
    {
     "data": {
      "text/plain": [
       "2053"
      ]
     },
     "execution_count": 21,
     "metadata": {},
     "output_type": "execute_result"
    }
   ],
   "source": [
    "fuel_con.Model.nunique()"
   ]
  },
  {
   "cell_type": "code",
   "execution_count": 23,
   "metadata": {},
   "outputs": [
    {
     "data": {
      "text/plain": [
       "16"
      ]
     },
     "execution_count": 23,
     "metadata": {},
     "output_type": "execute_result"
    }
   ],
   "source": [
    "fuel_con[\"Vehicle Class\"].nunique()"
   ]
  },
  {
   "cell_type": "code",
   "execution_count": 34,
   "metadata": {},
   "outputs": [
    {
     "data": {
      "text/plain": [
       "array(['COMPACT', 'SUV - SMALL', 'MID-SIZE', 'TWO-SEATER', 'MINICOMPACT',\n",
       "       'SUBCOMPACT', 'FULL-SIZE', 'STATION WAGON - SMALL',\n",
       "       'SUV - STANDARD', 'VAN - CARGO', 'VAN - PASSENGER',\n",
       "       'PICKUP TRUCK - STANDARD', 'MINIVAN', 'SPECIAL PURPOSE VEHICLE',\n",
       "       'STATION WAGON - MID-SIZE', 'PICKUP TRUCK - SMALL'], dtype=object)"
      ]
     },
     "execution_count": 34,
     "metadata": {},
     "output_type": "execute_result"
    }
   ],
   "source": [
    "fuel_con[\"Vehicle Class\"].unique()"
   ]
  },
  {
   "cell_type": "code",
   "execution_count": 25,
   "metadata": {},
   "outputs": [
    {
     "data": {
      "text/plain": [
       "27"
      ]
     },
     "execution_count": 25,
     "metadata": {},
     "output_type": "execute_result"
    }
   ],
   "source": [
    "fuel_con[\"Transmission\"].nunique()"
   ]
  },
  {
   "cell_type": "code",
   "execution_count": 26,
   "metadata": {},
   "outputs": [
    {
     "data": {
      "text/plain": [
       "array(['AS5', 'M6', 'AV7', 'AS6', 'AM6', 'A6', 'AM7', 'AV8', 'AS8', 'A7',\n",
       "       'A8', 'M7', 'A4', 'M5', 'AV', 'A5', 'AS7', 'A9', 'AS9', 'AV6',\n",
       "       'AS4', 'AM5', 'AM8', 'AM9', 'AS10', 'A10', 'AV10'], dtype=object)"
      ]
     },
     "execution_count": 26,
     "metadata": {},
     "output_type": "execute_result"
    }
   ],
   "source": [
    "fuel_con[\"Transmission\"].unique()"
   ]
  },
  {
   "cell_type": "code",
   "execution_count": 27,
   "metadata": {},
   "outputs": [],
   "source": [
    "# Mapping similar labels into a single label for Transmission column\n",
    "\n",
    "fuel_con[\"Transmission\"] = np.where(fuel_con[\"Transmission\"].isin([\"A4\", \"A5\", \"A6\", \"A7\", \"A8\", \"A9\", \"A10\"]), \"Automatic\", fuel_con[\"Transmission\"])\n",
    "fuel_con[\"Transmission\"] = np.where(fuel_con[\"Transmission\"].isin([\"AM5\", \"AM6\", \"AM7\", \"AM8\", \"AM9\"]), \"Automated Manual\", fuel_con[\"Transmission\"])\n",
    "fuel_con[\"Transmission\"] = np.where(fuel_con[\"Transmission\"].isin([\"AS4\", \"AS5\", \"AS6\", \"AS7\", \"AS8\", \"AS9\", \"AS10\"]), \"Automatic with Select Shift\", fuel_con[\"Transmission\"])\n",
    "fuel_con[\"Transmission\"] = np.where(fuel_con[\"Transmission\"].isin([\"AV\", \"AV6\", \"AV7\", \"AV8\", \"AV10\"]), \"Continuously Variable\", fuel_con[\"Transmission\"])\n",
    "fuel_con[\"Transmission\"] = np.where(fuel_con[\"Transmission\"].isin([\"M5\", \"M6\", \"M7\"]), \"Manual\", fuel_con[\"Transmission\"])"
   ]
  },
  {
   "cell_type": "code",
   "execution_count": 28,
   "metadata": {},
   "outputs": [
    {
     "data": {
      "text/plain": [
       "array(['Automatic with Select Shift', 'Manual', 'Continuously Variable',\n",
       "       'Automated Manual', 'Automatic'], dtype=object)"
      ]
     },
     "execution_count": 28,
     "metadata": {},
     "output_type": "execute_result"
    }
   ],
   "source": [
    "fuel_con[\"Transmission\"].unique()"
   ]
  },
  {
   "cell_type": "code",
   "execution_count": 29,
   "metadata": {},
   "outputs": [
    {
     "data": {
      "text/plain": [
       "5"
      ]
     },
     "execution_count": 29,
     "metadata": {},
     "output_type": "execute_result"
    }
   ],
   "source": [
    "fuel_con[\"Fuel Type\"].nunique()"
   ]
  },
  {
   "cell_type": "code",
   "execution_count": 30,
   "metadata": {},
   "outputs": [
    {
     "data": {
      "text/plain": [
       "array(['Z', 'D', 'X', 'E', 'N'], dtype=object)"
      ]
     },
     "execution_count": 30,
     "metadata": {},
     "output_type": "execute_result"
    }
   ],
   "source": [
    "fuel_con[\"Fuel Type\"].unique()"
   ]
  },
  {
   "cell_type": "code",
   "execution_count": 31,
   "metadata": {},
   "outputs": [],
   "source": [
    "# Changing the labels into a meaningful label\n",
    "\n",
    "fuel_con[\"Fuel Type\"] = np.where(fuel_con[\"Fuel Type\"]==\"Z\", \"Premium Gasoline\", fuel_con[\"Fuel Type\"])\n",
    "fuel_con[\"Fuel Type\"] = np.where(fuel_con[\"Fuel Type\"]==\"X\", \"Regular Gasoline\", fuel_con[\"Fuel Type\"])\n",
    "fuel_con[\"Fuel Type\"] = np.where(fuel_con[\"Fuel Type\"]==\"D\", \"Diesel\", fuel_con[\"Fuel Type\"])\n",
    "fuel_con[\"Fuel Type\"] = np.where(fuel_con[\"Fuel Type\"]==\"E\", \"Ethanol(E85)\", fuel_con[\"Fuel Type\"])\n",
    "fuel_con[\"Fuel Type\"] = np.where(fuel_con[\"Fuel Type\"]==\"N\", \"Natural Gas\", fuel_con[\"Fuel Type\"])"
   ]
  },
  {
   "cell_type": "code",
   "execution_count": 32,
   "metadata": {},
   "outputs": [
    {
     "data": {
      "text/plain": [
       "array(['Premium Gasoline', 'Diesel', 'Regular Gasoline', 'Ethanol(E85)',\n",
       "       'Natural Gas'], dtype=object)"
      ]
     },
     "execution_count": 32,
     "metadata": {},
     "output_type": "execute_result"
    }
   ],
   "source": [
    "fuel_con[\"Fuel Type\"].unique()"
   ]
  },
  {
   "cell_type": "code",
   "execution_count": 33,
   "metadata": {},
   "outputs": [
    {
     "data": {
      "text/html": [
       "<div>\n",
       "<style scoped>\n",
       "    .dataframe tbody tr th:only-of-type {\n",
       "        vertical-align: middle;\n",
       "    }\n",
       "\n",
       "    .dataframe tbody tr th {\n",
       "        vertical-align: top;\n",
       "    }\n",
       "\n",
       "    .dataframe thead th {\n",
       "        text-align: right;\n",
       "    }\n",
       "</style>\n",
       "<table border=\"1\" class=\"dataframe\">\n",
       "  <thead>\n",
       "    <tr style=\"text-align: right;\">\n",
       "      <th></th>\n",
       "      <th>Make</th>\n",
       "      <th>Model</th>\n",
       "      <th>Vehicle Class</th>\n",
       "      <th>Engine Size(L)</th>\n",
       "      <th>Cylinders</th>\n",
       "      <th>Transmission</th>\n",
       "      <th>Fuel Type</th>\n",
       "      <th>Fuel Consumption City (L/100 km)</th>\n",
       "      <th>Fuel Consumption Hwy (L/100 km)</th>\n",
       "      <th>Fuel Consumption Comb (L/100 km)</th>\n",
       "      <th>Fuel Consumption Comb (mpg)</th>\n",
       "      <th>CO2 Emissions(g/km)</th>\n",
       "    </tr>\n",
       "  </thead>\n",
       "  <tbody>\n",
       "    <tr>\n",
       "      <th>0</th>\n",
       "      <td>ACURA</td>\n",
       "      <td>ILX</td>\n",
       "      <td>COMPACT</td>\n",
       "      <td>2.0</td>\n",
       "      <td>4</td>\n",
       "      <td>Automatic with Select Shift</td>\n",
       "      <td>Premium Gasoline</td>\n",
       "      <td>9.9</td>\n",
       "      <td>6.7</td>\n",
       "      <td>8.5</td>\n",
       "      <td>33</td>\n",
       "      <td>196</td>\n",
       "    </tr>\n",
       "    <tr>\n",
       "      <th>1</th>\n",
       "      <td>ACURA</td>\n",
       "      <td>ILX</td>\n",
       "      <td>COMPACT</td>\n",
       "      <td>2.4</td>\n",
       "      <td>4</td>\n",
       "      <td>Manual</td>\n",
       "      <td>Premium Gasoline</td>\n",
       "      <td>11.2</td>\n",
       "      <td>7.7</td>\n",
       "      <td>9.6</td>\n",
       "      <td>29</td>\n",
       "      <td>221</td>\n",
       "    </tr>\n",
       "    <tr>\n",
       "      <th>2</th>\n",
       "      <td>ACURA</td>\n",
       "      <td>ILX HYBRID</td>\n",
       "      <td>COMPACT</td>\n",
       "      <td>1.5</td>\n",
       "      <td>4</td>\n",
       "      <td>Continuously Variable</td>\n",
       "      <td>Premium Gasoline</td>\n",
       "      <td>6.0</td>\n",
       "      <td>5.8</td>\n",
       "      <td>5.9</td>\n",
       "      <td>48</td>\n",
       "      <td>136</td>\n",
       "    </tr>\n",
       "    <tr>\n",
       "      <th>3</th>\n",
       "      <td>ACURA</td>\n",
       "      <td>MDX 4WD</td>\n",
       "      <td>SUV - SMALL</td>\n",
       "      <td>3.5</td>\n",
       "      <td>6</td>\n",
       "      <td>Automatic with Select Shift</td>\n",
       "      <td>Premium Gasoline</td>\n",
       "      <td>12.7</td>\n",
       "      <td>9.1</td>\n",
       "      <td>11.1</td>\n",
       "      <td>25</td>\n",
       "      <td>255</td>\n",
       "    </tr>\n",
       "    <tr>\n",
       "      <th>4</th>\n",
       "      <td>ACURA</td>\n",
       "      <td>RDX AWD</td>\n",
       "      <td>SUV - SMALL</td>\n",
       "      <td>3.5</td>\n",
       "      <td>6</td>\n",
       "      <td>Automatic with Select Shift</td>\n",
       "      <td>Premium Gasoline</td>\n",
       "      <td>12.1</td>\n",
       "      <td>8.7</td>\n",
       "      <td>10.6</td>\n",
       "      <td>27</td>\n",
       "      <td>244</td>\n",
       "    </tr>\n",
       "  </tbody>\n",
       "</table>\n",
       "</div>"
      ],
      "text/plain": [
       "    Make       Model Vehicle Class  Engine Size(L)  Cylinders  \\\n",
       "0  ACURA         ILX       COMPACT             2.0          4   \n",
       "1  ACURA         ILX       COMPACT             2.4          4   \n",
       "2  ACURA  ILX HYBRID       COMPACT             1.5          4   \n",
       "3  ACURA     MDX 4WD   SUV - SMALL             3.5          6   \n",
       "4  ACURA     RDX AWD   SUV - SMALL             3.5          6   \n",
       "\n",
       "                  Transmission         Fuel Type  \\\n",
       "0  Automatic with Select Shift  Premium Gasoline   \n",
       "1                       Manual  Premium Gasoline   \n",
       "2        Continuously Variable  Premium Gasoline   \n",
       "3  Automatic with Select Shift  Premium Gasoline   \n",
       "4  Automatic with Select Shift  Premium Gasoline   \n",
       "\n",
       "   Fuel Consumption City (L/100 km)  Fuel Consumption Hwy (L/100 km)  \\\n",
       "0                               9.9                              6.7   \n",
       "1                              11.2                              7.7   \n",
       "2                               6.0                              5.8   \n",
       "3                              12.7                              9.1   \n",
       "4                              12.1                              8.7   \n",
       "\n",
       "   Fuel Consumption Comb (L/100 km)  Fuel Consumption Comb (mpg)  \\\n",
       "0                               8.5                           33   \n",
       "1                               9.6                           29   \n",
       "2                               5.9                           48   \n",
       "3                              11.1                           25   \n",
       "4                              10.6                           27   \n",
       "\n",
       "   CO2 Emissions(g/km)  \n",
       "0                  196  \n",
       "1                  221  \n",
       "2                  136  \n",
       "3                  255  \n",
       "4                  244  "
      ]
     },
     "execution_count": 33,
     "metadata": {},
     "output_type": "execute_result"
    }
   ],
   "source": [
    "fuel_con.head()"
   ]
  },
  {
   "cell_type": "markdown",
   "metadata": {},
   "source": [
    "1. There are total 42 types of car brand.\n",
    "\n",
    "2. There are total 2053 unique car model. These neither can be converted into any dummy variable nor it can be used for analysis. So we can drop this column.\n",
    "\n",
    "3. There are total 16 types of vehicle class basis on their gross vehicle weight rating (GVWR) and volume index. But there are no data available with exact GVWR or volume index value, so that we can categorise the similar vehicle into a same group.\n",
    "\n",
    "4. The 27 type of transmission has been clubed into 5 different transmission without taking the number of clutches into account, as they doesnot affect CO2 emissions.\n",
    "\n",
    "5. The 5 type of Fuel Types has been renamed so that it has some meaningful interpretation.\n",
    "Frequency Distribution of different Categorical Variables\n"
   ]
  },
  {
   "cell_type": "code",
   "execution_count": 67,
   "metadata": {},
   "outputs": [],
   "source": [
    "capacity_dict = {\n",
    "    'COMPACT': 50,\n",
    "    'SUV - SMALL': 60,\n",
    "    'MID-SIZE': 70,\n",
    "    'TWO-SEATER': 20,\n",
    "    'MINICOMPACT': 40,\n",
    "    'SUBCOMPACT': 50,\n",
    "    'FULL-SIZE': 80,\n",
    "    'STATION WAGON - SMALL': 50,\n",
    "    'SUV - STANDARD': 70,\n",
    "    'VAN - CARGO': 120,\n",
    "    'VAN - PASSENGER': 60,  # Varies\n",
    "    'PICKUP TRUCK - STANDARD': 100,\n",
    "    'MINIVAN': 100,\n",
    "    'SPECIAL PURPOSE VEHICLE': 40,  # Varies\n",
    "    'STATION WAGON - MID-SIZE': 60,\n",
    "    'PICKUP TRUCK - SMALL': 70\n",
    "}\n",
    "\n",
    "fuel_con['Capacity (cubic feet)'] = fuel_con['Vehicle Class'].map(capacity_dict)\n",
    "\n",
    "transmission_labels = ['Automatic with Select Shift', 'Manual', 'Continuously Variable',\n",
    "       'Automated Manual', 'Automatic'] \n",
    "\n",
    "fuel_labels = ['Z', 'D', 'X', 'E', 'N']"
   ]
  },
  {
   "cell_type": "code",
   "execution_count": 68,
   "metadata": {},
   "outputs": [
    {
     "data": {
      "text/plain": [
       "{'Automatic with Select Shift': 0,\n",
       " 'Manual': 1,\n",
       " 'Continuously Variable': 2,\n",
       " 'Automated Manual': 3,\n",
       " 'Automatic': 4}"
      ]
     },
     "execution_count": 68,
     "metadata": {},
     "output_type": "execute_result"
    }
   ],
   "source": [
    "label_encoder = LabelEncoder()\n",
    "\n",
    "fuel_con['Transmission'] = label_encoder.fit_transform(fuel_con['Transmission'])\n",
    "\n",
    "transmission_label_mapping = {label: encoded_value for label, encoded_value in zip(transmission_labels, label_encoder.classes_)}\n",
    "transmission_label_mapping"
   ]
  },
  {
   "cell_type": "code",
   "execution_count": 69,
   "metadata": {},
   "outputs": [
    {
     "data": {
      "text/plain": [
       "{'Z': 0, 'D': 1, 'X': 2, 'E': 3, 'N': 4}"
      ]
     },
     "execution_count": 69,
     "metadata": {},
     "output_type": "execute_result"
    }
   ],
   "source": [
    "label_encoder = LabelEncoder()\n",
    "\n",
    "fuel_con['Fuel Type'] = label_encoder.fit_transform(fuel_con['Fuel Type'])\n",
    "\n",
    "fuel_type_label_mapping = {label: encoded_value for label, encoded_value in zip(fuel_labels, label_encoder.classes_)}\n",
    "fuel_type_label_mapping"
   ]
  },
  {
   "cell_type": "code",
   "execution_count": 70,
   "metadata": {},
   "outputs": [
    {
     "data": {
      "text/html": [
       "<div>\n",
       "<style scoped>\n",
       "    .dataframe tbody tr th:only-of-type {\n",
       "        vertical-align: middle;\n",
       "    }\n",
       "\n",
       "    .dataframe tbody tr th {\n",
       "        vertical-align: top;\n",
       "    }\n",
       "\n",
       "    .dataframe thead th {\n",
       "        text-align: right;\n",
       "    }\n",
       "</style>\n",
       "<table border=\"1\" class=\"dataframe\">\n",
       "  <thead>\n",
       "    <tr style=\"text-align: right;\">\n",
       "      <th></th>\n",
       "      <th>Make</th>\n",
       "      <th>Model</th>\n",
       "      <th>Vehicle Class</th>\n",
       "      <th>Engine Size(L)</th>\n",
       "      <th>Cylinders</th>\n",
       "      <th>Transmission</th>\n",
       "      <th>Fuel Type</th>\n",
       "      <th>Fuel Consumption City (L/100 km)</th>\n",
       "      <th>Fuel Consumption Hwy (L/100 km)</th>\n",
       "      <th>Fuel Consumption Comb (L/100 km)</th>\n",
       "      <th>Fuel Consumption Comb (mpg)</th>\n",
       "      <th>CO2 Emissions(g/km)</th>\n",
       "      <th>Capacity (cubic feet)</th>\n",
       "    </tr>\n",
       "  </thead>\n",
       "  <tbody>\n",
       "    <tr>\n",
       "      <th>0</th>\n",
       "      <td>ACURA</td>\n",
       "      <td>ILX</td>\n",
       "      <td>COMPACT</td>\n",
       "      <td>2.0</td>\n",
       "      <td>4</td>\n",
       "      <td>2</td>\n",
       "      <td>3</td>\n",
       "      <td>9.9</td>\n",
       "      <td>6.7</td>\n",
       "      <td>8.5</td>\n",
       "      <td>33</td>\n",
       "      <td>196</td>\n",
       "      <td>50</td>\n",
       "    </tr>\n",
       "    <tr>\n",
       "      <th>1</th>\n",
       "      <td>ACURA</td>\n",
       "      <td>ILX</td>\n",
       "      <td>COMPACT</td>\n",
       "      <td>2.4</td>\n",
       "      <td>4</td>\n",
       "      <td>4</td>\n",
       "      <td>3</td>\n",
       "      <td>11.2</td>\n",
       "      <td>7.7</td>\n",
       "      <td>9.6</td>\n",
       "      <td>29</td>\n",
       "      <td>221</td>\n",
       "      <td>50</td>\n",
       "    </tr>\n",
       "    <tr>\n",
       "      <th>2</th>\n",
       "      <td>ACURA</td>\n",
       "      <td>ILX HYBRID</td>\n",
       "      <td>COMPACT</td>\n",
       "      <td>1.5</td>\n",
       "      <td>4</td>\n",
       "      <td>3</td>\n",
       "      <td>3</td>\n",
       "      <td>6.0</td>\n",
       "      <td>5.8</td>\n",
       "      <td>5.9</td>\n",
       "      <td>48</td>\n",
       "      <td>136</td>\n",
       "      <td>50</td>\n",
       "    </tr>\n",
       "    <tr>\n",
       "      <th>3</th>\n",
       "      <td>ACURA</td>\n",
       "      <td>MDX 4WD</td>\n",
       "      <td>SUV - SMALL</td>\n",
       "      <td>3.5</td>\n",
       "      <td>6</td>\n",
       "      <td>2</td>\n",
       "      <td>3</td>\n",
       "      <td>12.7</td>\n",
       "      <td>9.1</td>\n",
       "      <td>11.1</td>\n",
       "      <td>25</td>\n",
       "      <td>255</td>\n",
       "      <td>60</td>\n",
       "    </tr>\n",
       "    <tr>\n",
       "      <th>4</th>\n",
       "      <td>ACURA</td>\n",
       "      <td>RDX AWD</td>\n",
       "      <td>SUV - SMALL</td>\n",
       "      <td>3.5</td>\n",
       "      <td>6</td>\n",
       "      <td>2</td>\n",
       "      <td>3</td>\n",
       "      <td>12.1</td>\n",
       "      <td>8.7</td>\n",
       "      <td>10.6</td>\n",
       "      <td>27</td>\n",
       "      <td>244</td>\n",
       "      <td>60</td>\n",
       "    </tr>\n",
       "  </tbody>\n",
       "</table>\n",
       "</div>"
      ],
      "text/plain": [
       "    Make       Model Vehicle Class  Engine Size(L)  Cylinders  Transmission  \\\n",
       "0  ACURA         ILX       COMPACT             2.0          4             2   \n",
       "1  ACURA         ILX       COMPACT             2.4          4             4   \n",
       "2  ACURA  ILX HYBRID       COMPACT             1.5          4             3   \n",
       "3  ACURA     MDX 4WD   SUV - SMALL             3.5          6             2   \n",
       "4  ACURA     RDX AWD   SUV - SMALL             3.5          6             2   \n",
       "\n",
       "   Fuel Type  Fuel Consumption City (L/100 km)  \\\n",
       "0          3                               9.9   \n",
       "1          3                              11.2   \n",
       "2          3                               6.0   \n",
       "3          3                              12.7   \n",
       "4          3                              12.1   \n",
       "\n",
       "   Fuel Consumption Hwy (L/100 km)  Fuel Consumption Comb (L/100 km)  \\\n",
       "0                              6.7                               8.5   \n",
       "1                              7.7                               9.6   \n",
       "2                              5.8                               5.9   \n",
       "3                              9.1                              11.1   \n",
       "4                              8.7                              10.6   \n",
       "\n",
       "   Fuel Consumption Comb (mpg)  CO2 Emissions(g/km)  Capacity (cubic feet)  \n",
       "0                           33                  196                     50  \n",
       "1                           29                  221                     50  \n",
       "2                           48                  136                     50  \n",
       "3                           25                  255                     60  \n",
       "4                           27                  244                     60  "
      ]
     },
     "execution_count": 70,
     "metadata": {},
     "output_type": "execute_result"
    }
   ],
   "source": [
    "fuel_con.head()"
   ]
  },
  {
   "cell_type": "code",
   "execution_count": 76,
   "metadata": {},
   "outputs": [
    {
     "name": "stdout",
     "output_type": "stream",
     "text": [
      "Epoch 1/50\n",
      "162/162 [==============================] - 1s 4ms/step - loss: 21560.6484 - val_loss: 2529.0059\n",
      "Epoch 2/50\n",
      "162/162 [==============================] - 1s 6ms/step - loss: 1494.0847 - val_loss: 548.9818\n",
      "Epoch 3/50\n",
      "162/162 [==============================] - 1s 6ms/step - loss: 443.8500 - val_loss: 408.8434\n",
      "Epoch 4/50\n",
      "162/162 [==============================] - 1s 5ms/step - loss: 384.8025 - val_loss: 371.3458\n",
      "Epoch 5/50\n",
      "162/162 [==============================] - 1s 6ms/step - loss: 347.1445 - val_loss: 347.1531\n",
      "Epoch 6/50\n",
      "162/162 [==============================] - 1s 6ms/step - loss: 325.4691 - val_loss: 332.2742\n",
      "Epoch 7/50\n",
      "162/162 [==============================] - 1s 6ms/step - loss: 311.7660 - val_loss: 329.4411\n",
      "Epoch 8/50\n",
      "162/162 [==============================] - 1s 6ms/step - loss: 299.6186 - val_loss: 303.4430\n",
      "Epoch 9/50\n",
      "162/162 [==============================] - 1s 3ms/step - loss: 288.3614 - val_loss: 315.4675\n",
      "Epoch 10/50\n",
      "162/162 [==============================] - 1s 5ms/step - loss: 280.0286 - val_loss: 289.8010\n",
      "Epoch 11/50\n",
      "162/162 [==============================] - 0s 2ms/step - loss: 265.9143 - val_loss: 273.3530\n",
      "Epoch 12/50\n",
      "162/162 [==============================] - 0s 2ms/step - loss: 256.7202 - val_loss: 262.9075\n",
      "Epoch 13/50\n",
      "162/162 [==============================] - 1s 4ms/step - loss: 243.8825 - val_loss: 251.3608\n",
      "Epoch 14/50\n",
      "162/162 [==============================] - 1s 6ms/step - loss: 230.0552 - val_loss: 248.0318\n",
      "Epoch 15/50\n",
      "162/162 [==============================] - 0s 3ms/step - loss: 219.3779 - val_loss: 230.9333\n",
      "Epoch 16/50\n",
      "162/162 [==============================] - 1s 3ms/step - loss: 206.6541 - val_loss: 229.7868\n",
      "Epoch 17/50\n",
      "162/162 [==============================] - 0s 3ms/step - loss: 193.2470 - val_loss: 206.8259\n",
      "Epoch 18/50\n",
      "162/162 [==============================] - 0s 2ms/step - loss: 181.0912 - val_loss: 192.5100\n",
      "Epoch 19/50\n",
      "162/162 [==============================] - 1s 4ms/step - loss: 166.6476 - val_loss: 183.3800\n",
      "Epoch 20/50\n",
      "162/162 [==============================] - 0s 3ms/step - loss: 157.5447 - val_loss: 179.4317\n",
      "Epoch 21/50\n",
      "162/162 [==============================] - 1s 6ms/step - loss: 146.7917 - val_loss: 153.2416\n",
      "Epoch 22/50\n",
      "162/162 [==============================] - 0s 3ms/step - loss: 135.1176 - val_loss: 143.4791\n",
      "Epoch 23/50\n",
      "162/162 [==============================] - 0s 3ms/step - loss: 126.1268 - val_loss: 145.5053\n",
      "Epoch 24/50\n",
      "162/162 [==============================] - 1s 3ms/step - loss: 117.9246 - val_loss: 127.7268\n",
      "Epoch 25/50\n",
      "162/162 [==============================] - 1s 4ms/step - loss: 109.0205 - val_loss: 119.2922\n",
      "Epoch 26/50\n",
      "162/162 [==============================] - 1s 6ms/step - loss: 104.9976 - val_loss: 118.3919\n",
      "Epoch 27/50\n",
      "162/162 [==============================] - 1s 4ms/step - loss: 100.8038 - val_loss: 107.0318\n",
      "Epoch 28/50\n",
      "162/162 [==============================] - 1s 4ms/step - loss: 94.3511 - val_loss: 102.6217\n",
      "Epoch 29/50\n",
      "162/162 [==============================] - 1s 5ms/step - loss: 94.6061 - val_loss: 98.7073\n",
      "Epoch 30/50\n",
      "162/162 [==============================] - 1s 6ms/step - loss: 88.1407 - val_loss: 103.5564\n",
      "Epoch 31/50\n",
      "162/162 [==============================] - 1s 6ms/step - loss: 84.4353 - val_loss: 90.7904\n",
      "Epoch 32/50\n",
      "162/162 [==============================] - 1s 5ms/step - loss: 82.3427 - val_loss: 89.0609\n",
      "Epoch 33/50\n",
      "162/162 [==============================] - 0s 2ms/step - loss: 80.4899 - val_loss: 83.3369\n",
      "Epoch 34/50\n",
      "162/162 [==============================] - 0s 3ms/step - loss: 76.2872 - val_loss: 89.5018\n",
      "Epoch 35/50\n",
      "162/162 [==============================] - 1s 6ms/step - loss: 74.1155 - val_loss: 77.1324\n",
      "Epoch 36/50\n",
      "162/162 [==============================] - 1s 4ms/step - loss: 71.2475 - val_loss: 76.7646\n",
      "Epoch 37/50\n",
      "162/162 [==============================] - 1s 4ms/step - loss: 72.4220 - val_loss: 75.2303\n",
      "Epoch 38/50\n",
      "162/162 [==============================] - 1s 5ms/step - loss: 69.0831 - val_loss: 74.0412\n",
      "Epoch 39/50\n",
      "162/162 [==============================] - 1s 6ms/step - loss: 67.4620 - val_loss: 68.3542\n",
      "Epoch 40/50\n",
      "162/162 [==============================] - 1s 6ms/step - loss: 65.0381 - val_loss: 74.6134\n",
      "Epoch 41/50\n",
      "162/162 [==============================] - 1s 4ms/step - loss: 63.9740 - val_loss: 71.0280\n",
      "Epoch 42/50\n",
      "162/162 [==============================] - 0s 2ms/step - loss: 64.8654 - val_loss: 64.5522\n",
      "Epoch 43/50\n",
      "162/162 [==============================] - 0s 3ms/step - loss: 61.3749 - val_loss: 66.4560\n",
      "Epoch 44/50\n",
      "162/162 [==============================] - 1s 5ms/step - loss: 61.6740 - val_loss: 62.4151\n",
      "Epoch 45/50\n",
      "162/162 [==============================] - 1s 6ms/step - loss: 59.6285 - val_loss: 63.4421\n",
      "Epoch 46/50\n",
      "162/162 [==============================] - 1s 6ms/step - loss: 61.3623 - val_loss: 59.6905\n",
      "Epoch 47/50\n",
      "162/162 [==============================] - 0s 2ms/step - loss: 60.5777 - val_loss: 71.5186\n",
      "Epoch 48/50\n",
      "162/162 [==============================] - 0s 2ms/step - loss: 58.1219 - val_loss: 58.8153\n",
      "Epoch 49/50\n",
      "162/162 [==============================] - 1s 6ms/step - loss: 58.4320 - val_loss: 63.8446\n",
      "Epoch 50/50\n",
      "162/162 [==============================] - 1s 3ms/step - loss: 56.5591 - val_loss: 57.4858\n",
      "70/70 [==============================] - 0s 1ms/step\n",
      "Mean Squared Error: 57.48581525467943\n",
      "R-squared (R2) Score: 0.9829808091272869\n"
     ]
    }
   ],
   "source": [
    "from sklearn.model_selection import train_test_split\n",
    "from sklearn.metrics import mean_squared_error\n",
    "from sklearn.metrics import r2_score\n",
    "import tensorflow as tf\n",
    "from tensorflow.keras.models import Sequential\n",
    "from tensorflow.keras.layers import Dense\n",
    "\n",
    "X = fuel_con[['Capacity (cubic feet)', 'Engine Size(L)', 'Cylinders', 'Transmission', 'Fuel Type', 'Fuel Consumption City (L/100 km)', 'Fuel Consumption Hwy (L/100 km)', 'Fuel Consumption Comb (L/100 km)', 'Fuel Consumption Comb (mpg)']]\n",
    "y = fuel_con['CO2 Emissions(g/km)']\n",
    "\n",
    "X_train, X_test, y_train, y_test = train_test_split(X, y, test_size=0.3, random_state=42)\n",
    "\n",
    "model = Sequential()\n",
    "model.add(Dense(units=64, activation='relu', input_dim=X_train.shape[1]))\n",
    "model.add(Dense(units=32, activation='relu'))\n",
    "model.add(Dense(units=1))  # Output layer for regression\n",
    "\n",
    "model.compile(optimizer='adam', loss='mean_squared_error')\n",
    "\n",
    "model.fit(X_train, y_train, epochs=50, batch_size=32, validation_data=(X_test, y_test))\n",
    "\n",
    "y_pred = model.predict(X_test)\n",
    "\n",
    "# Calculate the Mean Squared Error (MSE) as a performance metric\n",
    "mse = mean_squared_error(y_test, y_pred)\n",
    "print(f\"Mean Squared Error: {mse}\")\n",
    "\n",
    "r2 = r2_score(y_test, y_pred)\n",
    "print(f\"R-squared (R2) Score: {r2}\")\n",
    "\n",
    "# You can now use the model 'model' to make predictions on new data"
   ]
  },
  {
   "cell_type": "code",
   "execution_count": 77,
   "metadata": {},
   "outputs": [
    {
     "name": "stderr",
     "output_type": "stream",
     "text": [
      "WARNING:absl:Found untraced functions such as _update_step_xla while saving (showing 1 of 1). These functions will not be directly callable after loading.\n"
     ]
    },
    {
     "name": "stdout",
     "output_type": "stream",
     "text": [
      "INFO:tensorflow:Assets written to: models/emission_model\\assets\n"
     ]
    },
    {
     "name": "stderr",
     "output_type": "stream",
     "text": [
      "INFO:tensorflow:Assets written to: models/emission_model\\assets\n"
     ]
    }
   ],
   "source": [
    "model.save('models/emission_model')"
   ]
  },
  {
   "cell_type": "code",
   "execution_count": 85,
   "metadata": {},
   "outputs": [],
   "source": [
    "# sample = np.array([['Capacity (cubic feet)', 'Engine Size(L)', 'Cylinders', 'Transmission', 'Fuel Type', 'Fuel Consumption City (L/100 km)', 'Fuel Consumption Hwy (L/100 km)', 'Fuel Consumption Comb (L/100 km)', 'Fuel Consumption Comb (mpg)']])\n",
    "# example - get_emission_prediction(np.array([[50, 2.0, 4, 0, 2, 9.9, 7.4, 8.8, 32]]))\n",
    "def get_emission_prediction(sample):\n",
    "        loaded_model = tf.keras.models.load_model('models/emission_model')\n",
    "        return loaded_model.predict(sample).tolist()[0][0]"
   ]
  },
  {
   "cell_type": "code",
   "execution_count": null,
   "metadata": {},
   "outputs": [],
   "source": []
  }
 ],
 "metadata": {
  "kernelspec": {
   "display_name": "Python 3",
   "language": "python",
   "name": "python3"
  },
  "language_info": {
   "codemirror_mode": {
    "name": "ipython",
    "version": 3
   },
   "file_extension": ".py",
   "mimetype": "text/x-python",
   "name": "python",
   "nbconvert_exporter": "python",
   "pygments_lexer": "ipython3",
   "version": "3.10.5"
  }
 },
 "nbformat": 4,
 "nbformat_minor": 2
}
