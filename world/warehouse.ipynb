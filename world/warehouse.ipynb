{
 "cells": [
  {
   "cell_type": "code",
   "execution_count": 3,
   "metadata": {},
   "outputs": [],
   "source": [
    "from utils import *\n",
    "\n",
    "BASE_PATH = '../data/world'\n",
    "NODES_PATH = BASE_PATH + '/world_nodes.txt'\n",
    "EDGES_PATH = BASE_PATH + '/world_edges.txt'\n",
    "\n",
    "GraphBuilder = GraphBuilder(NODES_PATH, EDGES_PATH)\n",
    "graph = GraphBuilder.build_graph()"
   ]
  },
  {
   "cell_type": "code",
   "execution_count": null,
   "metadata": {},
   "outputs": [],
   "source": [
    "from sklearn.cluster import KMeans\n",
    "import numpy as np\n",
    "\n",
    "def cluster_and_add_warehouses(graph, warehouse_type, n_clusters):\n",
    "    # Extract node coordinates for clustering\n",
    "    node_coordinates = np.array([(node.x, node.y) for node in graph.nodes])\n",
    "\n",
    "    # Apply K-Means clustering\n",
    "    kmeans = KMeans(n_clusters=n_clusters, random_state=0).fit(node_coordinates)\n",
    "    \n",
    "    # Initialize clusters\n",
    "    clusters = [[] for _ in range(n_clusters)]\n",
    "\n",
    "    # Assign nodes to clusters\n",
    "    for i, label in enumerate(kmeans.labels_):\n",
    "        clusters[label].append(graph.nodes[i])\n",
    "\n",
    "    # Calculate centroids\n",
    "    centroids = [(sum(node.x for node in cluster) / len(cluster), \n",
    "                  sum(node.y for node in cluster) / len(cluster)) for cluster in clusters]\n",
    "\n",
    "    # Create WarehouseNodes and add them to the graph\n",
    "    for i, centroid in enumerate(centroids):\n",
    "        new_warehouse = WarehouseNode(f'Warehouse_{i}', centroid[0], centroid[1], warehouse_type)\n",
    "        graph.add_node(new_warehouse)\n",
    "\n",
    "    # Connect WarehouseNodes with original clusters\n",
    "    for i, centroid in enumerate(centroids):\n",
    "        cluster_nodes = clusters[i]\n",
    "        for node in cluster_nodes:\n",
    "            weight = ((node.x - centroid[0])**2 + (node.y - centroid[1])**2)**0.5\n",
    "            edge_to_warehouse = Edge(node, graph.get_node_by_id(f'Warehouse_{i}'), weight)\n",
    "            graph.add_edge(edge_to_warehouse)\n",
    "\n",
    "    return graph\n"
   ]
  },
  {
   "cell_type": "code",
   "execution_count": null,
   "metadata": {},
   "outputs": [],
   "source": [
    "def assign_warehouses(graph):\n",
    "        local_criteria, regional_criteria, central_criteria = 100, 10, 3\n",
    "\n",
    "        graph = cluster_and_add_warehouses(graph, 'local', local_criteria)\n",
    "        graph = cluster_and_add_warehouses(graph, 'regional', regional_criteria)\n",
    "        graph = cluster_and_add_warehouses(graph, 'central', central_criteria)\n",
    "\n",
    "        graph.plot_graph()\n",
    "        return graph"
   ]
  },
  {
   "cell_type": "code",
   "execution_count": null,
   "metadata": {},
   "outputs": [],
   "source": [
    "graph = assign_warehouses(graph)"
   ]
  },
  {
   "cell_type": "code",
   "execution_count": null,
   "metadata": {},
   "outputs": [],
   "source": []
  }
 ],
 "metadata": {
  "kernelspec": {
   "display_name": "Python 3",
   "language": "python",
   "name": "python3"
  },
  "language_info": {
   "codemirror_mode": {
    "name": "ipython",
    "version": 3
   },
   "file_extension": ".py",
   "mimetype": "text/x-python",
   "name": "python",
   "nbconvert_exporter": "python",
   "pygments_lexer": "ipython3",
   "version": "3.11.2"
  }
 },
 "nbformat": 4,
 "nbformat_minor": 2
}
