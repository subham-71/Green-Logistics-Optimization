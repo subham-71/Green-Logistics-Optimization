{
 "cells": [
  {
   "cell_type": "code",
   "execution_count": null,
   "metadata": {},
   "outputs": [],
   "source": [
    "from utils import *\n",
    "\n",
    "BASE_PATH = '../data/world'\n",
    "NODES_PATH = '../results/clusters/local/local_0.txt'\n",
    "EDGES_PATH = BASE_PATH + '/world_edges.txt'\n",
    "\n",
    "GraphBuilder = GraphBuilder(NODES_PATH, EDGES_PATH)\n",
    "graph = GraphBuilder.build_graph()"
   ]
  },
  {
   "cell_type": "code",
   "execution_count": null,
   "metadata": {},
   "outputs": [],
   "source": []
  }
 ],
 "metadata": {
  "kernelspec": {
   "display_name": "devenv",
   "language": "python",
   "name": "python3"
  },
  "language_info": {
   "codemirror_mode": {
    "name": "ipython",
    "version": 3
   },
   "file_extension": ".py",
   "mimetype": "text/x-python",
   "name": "python",
   "nbconvert_exporter": "python",
   "pygments_lexer": "ipython3",
   "version": "3.11.2"
  }
 },
 "nbformat": 4,
 "nbformat_minor": 2
}
